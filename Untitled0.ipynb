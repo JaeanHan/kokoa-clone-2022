{
  "nbformat": 4,
  "nbformat_minor": 0,
  "metadata": {
    "colab": {
      "name": "Untitled0.ipynb",
      "provenance": [],
      "collapsed_sections": [],
      "authorship_tag": "ABX9TyOdk8eTJm1sQG3vVS67m+Fk",
      "include_colab_link": true
    },
    "kernelspec": {
      "name": "python3",
      "display_name": "Python 3"
    },
    "language_info": {
      "name": "python"
    }
  },
  "cells": [
    {
      "cell_type": "markdown",
      "metadata": {
        "id": "view-in-github",
        "colab_type": "text"
      },
      "source": [
        "<a href=\"https://colab.research.google.com/github/JaeanHan/kokoa-clone-2022/blob/main/Untitled0.ipynb\" target=\"_parent\"><img src=\"https://colab.research.google.com/assets/colab-badge.svg\" alt=\"Open In Colab\"/></a>"
      ]
    },
    {
      "cell_type": "code",
      "execution_count": null,
      "metadata": {
        "id": "Tqkca-fBYesx"
      },
      "outputs": [],
      "source": [
        "# 반복문\n",
        "# 수행문\n",
        "#if -else\n",
        "\n",
        "number = [1,2,3,4,5,6,7,8,9,10]\n",
        "\n",
        "for num in number:\n",
        "  if num%2 ==0:\n",
        "    print(\"짝수\")\n",
        "  else:\n",
        "    print(\"홀수\") "
      ]
    },
    {
      "cell_type": "code",
      "source": [
        "# 해당 리스트에 있느 숫자들을 입력 받아서 합과 평균 구하기\n",
        "a, b, c = map(int, input().split(','))\n",
        "# input() => '1,2,3' string\n",
        "# .split(',') ,을 기준으로 string split\n",
        "# map(int, string) => [1,2,3]\n",
        "\n",
        "print(a)\n",
        "print(b)\n",
        "print(c)\n",
        "\n",
        "print(\"합계 : \", a+b+c )\n",
        "print(\"평균 : \", (a+b+c)/3 )\n",
        "\n",
        "\n"
      ],
      "metadata": {
        "colab": {
          "base_uri": "https://localhost:8080/"
        },
        "id": "pQ15i66AY179",
        "outputId": "460158dc-0324-446c-b64f-348ffbd6b7ba"
      },
      "execution_count": null,
      "outputs": [
        {
          "output_type": "stream",
          "name": "stdout",
          "text": [
            "5,4,3\n",
            "5\n",
            "4\n",
            "3\n",
            "합계 :  12\n",
            "평균 :  4.0\n"
          ]
        }
      ]
    },
    {
      "cell_type": "code",
      "source": [
        "a = list(map(int, input().split()))\n",
        "ans = 0\n",
        "\n",
        "# 숫자를 입력받거나 주어진 변수를 이용해서 가장 큰 숫자를 출력하시오\n",
        "# 반복문이나 조건문을 사용해서 출력하시면 됩니다.\n",
        "\n",
        "for i in a:\n",
        "  if ans < i:\n",
        "    ans = i\n",
        "\n",
        "print(i)\n",
        "print(max(a))"
      ],
      "metadata": {
        "colab": {
          "base_uri": "https://localhost:8080/"
        },
        "id": "IZwuiFUOaDYa",
        "outputId": "a3b74591-8b74-453b-9f62-293ad919a018"
      },
      "execution_count": null,
      "outputs": [
        {
          "output_type": "stream",
          "name": "stdout",
          "text": [
            "4 5 10\n",
            "10\n",
            "10\n"
          ]
        }
      ]
    },
    {
      "cell_type": "code",
      "source": [
        "# 국어, 영어, 수학 점수의 평균이 \n",
        "# 90 이상이면 A\n",
        "# 80 이상이면 B\n",
        "# 70 이상이면 C\n",
        "# 나머지는 D 를 출력하시오\n",
        "\n",
        "kor = 100\n",
        "eng = 67\n",
        "math = 89\n",
        "mean = (kor+eng+math)/3\n",
        "\n",
        "# 최종 성적출력\n",
        "\n",
        "if mean > 89 :\n",
        "  print('A')\n",
        "elif mean > 79 :\n",
        "  print('B')\n",
        "elif mean > 69:\n",
        "  print('C')\n",
        "else:\n",
        "  print('D')\n",
        "\n"
      ],
      "metadata": {
        "colab": {
          "base_uri": "https://localhost:8080/"
        },
        "id": "I9m-sXxyc4MF",
        "outputId": "b5e1a611-4a43-4114-916e-0da7dc794edb"
      },
      "execution_count": null,
      "outputs": [
        {
          "output_type": "stream",
          "name": "stdout",
          "text": [
            "B\n"
          ]
        }
      ]
    },
    {
      "cell_type": "code",
      "source": [
        "age_list= ['34살','35살','45살','56살']\n",
        "group_age = []\n",
        "\n",
        "for age in age_list:\n",
        "  age = age.split('살')[0]\n",
        "  if 30 <= int(age) <= 39:\n",
        "    age = '30대'\n",
        "    group_age.append(age)\n",
        "  elif 40 <= int(age) <= 49:\n",
        "    age = '40대'\n",
        "    group_age.append(age)\n",
        "  else:\n",
        "    age = '50대'\n",
        "    group_age.append(age)\n",
        "\n",
        "print(group_age)"
      ],
      "metadata": {
        "colab": {
          "base_uri": "https://localhost:8080/"
        },
        "id": "N2pwolrHecs4",
        "outputId": "d38a3d81-38f5-47da-d853-d4f3a431a9d9"
      },
      "execution_count": null,
      "outputs": [
        {
          "output_type": "stream",
          "name": "stdout",
          "text": [
            "['30대', '30대', '40대', '50대']\n"
          ]
        }
      ]
    },
    {
      "cell_type": "code",
      "source": [
        "# 반복문 활용\n",
        "# 목적은 0부터 10까지 2씩 간격으로 숫자를 생성된 리스트 만들기\n",
        "\n",
        "result=[]\n",
        "\n",
        "for num in range(0, 10, 2): #range(시작 인덱스, 종료 인덱스, 증감값)\n",
        "  result.append(num)\n",
        "print(result)\n"
      ],
      "metadata": {
        "colab": {
          "base_uri": "https://localhost:8080/"
        },
        "id": "Z1kDJtbTiQMp",
        "outputId": "9c0590b3-3b11-4686-a72d-7f04e5f7af47"
      },
      "execution_count": null,
      "outputs": [
        {
          "output_type": "stream",
          "name": "stdout",
          "text": [
            "[0, 2, 4, 6, 8]\n"
          ]
        }
      ]
    },
    {
      "cell_type": "code",
      "source": [
        "# 감소하는 리스트\n",
        "down_list=[]\n",
        "\n",
        "for num in range(11,0,-2):\n",
        "  down_list.append(num)\n",
        "print(down_list)\n"
      ],
      "metadata": {
        "colab": {
          "base_uri": "https://localhost:8080/"
        },
        "id": "x0E90ec2i7jY",
        "outputId": "c6df0d3a-a7b6-4fba-e7bd-8b12fc1a8d3e"
      },
      "execution_count": null,
      "outputs": [
        {
          "output_type": "stream",
          "name": "stdout",
          "text": [
            "[11, 9, 7, 5, 3, 1]\n"
          ]
        }
      ]
    },
    {
      "cell_type": "code",
      "source": [
        "# 리스트끼리 합칠 때\n",
        "\n",
        "temp_list =[i for i in range(1,7)]\n",
        "temp_list2 = [i for i in range(11, 17)]\n",
        "\n",
        "# ver1.노가다\n",
        "for i in temp_list2:\n",
        "  temp_list.append(i)\n",
        "print(temp_list)"
      ],
      "metadata": {
        "colab": {
          "base_uri": "https://localhost:8080/"
        },
        "id": "hP1P6hWtjPMx",
        "outputId": "5fb7cdcb-a74c-474e-b07e-92eea90e24f8"
      },
      "execution_count": null,
      "outputs": [
        {
          "output_type": "stream",
          "name": "stdout",
          "text": [
            "[1, 2, 3, 4, 5, 6, 11, 12, 13, 14, 15, 16]\n"
          ]
        }
      ]
    },
    {
      "cell_type": "code",
      "source": [
        "temp_list =[i for i in range(1,7)]\n",
        "temp_list2 = [i for i in range(11, 17)]\n",
        "\n",
        "# ver2. 함수사용\n",
        "\n",
        "temp_list.extend(temp_list2)\n",
        "print(temp_list)"
      ],
      "metadata": {
        "colab": {
          "base_uri": "https://localhost:8080/"
        },
        "id": "j6dU1x1ajo1Z",
        "outputId": "f0129d2f-6bd2-4aa3-8476-e781e8fbe51a"
      },
      "execution_count": null,
      "outputs": [
        {
          "output_type": "stream",
          "name": "stdout",
          "text": [
            "[1, 2, 3, 4, 5, 6, 11, 12, 13, 14, 15, 16]\n"
          ]
        }
      ]
    },
    {
      "cell_type": "code",
      "source": [
        "# 임의의 숫자 2개를 무작위로 받아서 그사이의 숫자들을 출력하는 법\n",
        "# 예) 5 1 => 1,2,3,4,5\n",
        "# 예) 1 5 => 1,2,3,4,5\n",
        "\n",
        "a=5\n",
        "b=1\n",
        "\n",
        "if a>b:\n",
        "  for i in range(b,a+1):\n",
        "    print(i, end=\" \")\n",
        "\n",
        "else:\n",
        "  for i in range(a, b+1):\n",
        "    print(i, end=\" \")"
      ],
      "metadata": {
        "colab": {
          "base_uri": "https://localhost:8080/"
        },
        "id": "nSCC10G_kCk-",
        "outputId": "3aeecc2d-c492-4456-b5d6-d4c4356e2e28"
      },
      "execution_count": null,
      "outputs": [
        {
          "output_type": "stream",
          "name": "stdout",
          "text": [
            "1 2 3 4 5 "
          ]
        }
      ]
    },
    {
      "cell_type": "code",
      "source": [
        "# 출력포멧 정하기\n",
        "a=3\n",
        "b=4\n",
        "print(a+b)\n",
        "\n",
        "# print(\"%d + %d = %d\", a, b, a+b)\n",
        "\n",
        "# format함수를 이용한 출력\n",
        "print(\"{}+{}={}\".format(a,b,a+b))\n",
        "\n",
        "# 3.6이후\n",
        "print(f\"{a}+{b} = {a+b}\")\n",
        "\n",
        "# 결과를 볼 때\n",
        "print(\"a :\", a)\n",
        "# +를 이용해서\n",
        "print(\"a : \"+ str(a))\n"
      ],
      "metadata": {
        "colab": {
          "base_uri": "https://localhost:8080/"
        },
        "id": "g11cl22uktX9",
        "outputId": "d9dc1b8c-0bef-4150-9f88-2739b5085c2f"
      },
      "execution_count": null,
      "outputs": [
        {
          "output_type": "stream",
          "name": "stdout",
          "text": [
            "7\n",
            "3+4=7\n",
            "3+4 = 7\n",
            "a : 3\n",
            "a : 3\n"
          ]
        }
      ]
    },
    {
      "cell_type": "code",
      "source": [
        "# 숫자 하나를 입력 받아서 끝자리가 3과 7인 숫자의 개수를 구하시오\n",
        "# 예) 13 =>1 2 3 4 5 6 7 8 9 10 11 12 13\n",
        "# 출력값은 3\n",
        "\n",
        "a = int(input())\n",
        "ans= []\n",
        "# cnt=0\n",
        "\n",
        "for i in list(map(str,range(a+1))):\n",
        "  if i[-1] == '3' or i[-1] == '7':\n",
        "    ans.append(i)\n",
        "    # cnt+=1\n",
        "\n",
        "print(len(ans))\n"
      ],
      "metadata": {
        "colab": {
          "base_uri": "https://localhost:8080/"
        },
        "id": "EY6ebp0jl-wU",
        "outputId": "10511827-8da1-46df-8b7d-67533e97c704"
      },
      "execution_count": null,
      "outputs": [
        {
          "output_type": "stream",
          "name": "stdout",
          "text": [
            "13\n",
            "3\n"
          ]
        }
      ]
    },
    {
      "cell_type": "code",
      "source": [
        "# 리스트의 활용\n",
        "\n",
        "a=[1,2,3,4,5,6,7,8]\n",
        "print(a[0])   # 0번째 인덱스 출력\n",
        "print(a[-8])  # -8번째 인덱스 출력\n",
        "print(a[0:4]) # 문자열 슬라이싱 0~4\n",
        "print(a[:-4])"
      ],
      "metadata": {
        "colab": {
          "base_uri": "https://localhost:8080/"
        },
        "id": "1agasGMmo6gH",
        "outputId": "442cad57-babd-4b7a-8cc4-29313c95761c"
      },
      "execution_count": null,
      "outputs": [
        {
          "output_type": "stream",
          "name": "stdout",
          "text": [
            "1\n",
            "1\n",
            "[1, 2, 3, 4]\n",
            "[1, 2, 3, 4]\n"
          ]
        }
      ]
    },
    {
      "cell_type": "code",
      "source": [
        "# 딕셔너리\n",
        "\n",
        "dict = {}\n",
        "# dict = {'key':'value'}\n",
        "# 데이터프레임 개념으로 가면 key => 컬럼(column) value => 값\n",
        "\n",
        "tmp_dict = {\"id\": ['a','b','c'], \n",
        "            \"kor\": [50,60,70],\n",
        "            \"eng\": [40,50,60]\n",
        "            }\n",
        "tmp_dict"
      ],
      "metadata": {
        "colab": {
          "base_uri": "https://localhost:8080/"
        },
        "id": "AdFEeV7Gp7XB",
        "outputId": "e9545024-dd12-4ad6-c60f-b48f55fdf700"
      },
      "execution_count": null,
      "outputs": [
        {
          "output_type": "execute_result",
          "data": {
            "text/plain": [
              "{'eng': [40, 50, 60], 'id': ['a', 'b', 'c'], 'kor': [50, 60, 70]}"
            ]
          },
          "metadata": {},
          "execution_count": 48
        }
      ]
    },
    {
      "cell_type": "code",
      "source": [
        "# 딕셔너리 key값 출력\n",
        "for key in tmp_dict:\n",
        "  print(key)"
      ],
      "metadata": {
        "colab": {
          "base_uri": "https://localhost:8080/"
        },
        "id": "zVVjPO7hqzgi",
        "outputId": "3d8dfa97-dae2-4804-f02d-aec3a58b07a7"
      },
      "execution_count": null,
      "outputs": [
        {
          "output_type": "stream",
          "name": "stdout",
          "text": [
            "id\n",
            "kor\n",
            "eng\n"
          ]
        }
      ]
    },
    {
      "cell_type": "code",
      "source": [
        "# 딕셔너리의 values 값 출력\n",
        "for value in tmp_dict.values():\n",
        "  print(value)\n"
      ],
      "metadata": {
        "colab": {
          "base_uri": "https://localhost:8080/"
        },
        "id": "xAYemKp7q5MM",
        "outputId": "33fb25af-ed25-48d7-e6a2-61085f87e783"
      },
      "execution_count": null,
      "outputs": [
        {
          "output_type": "stream",
          "name": "stdout",
          "text": [
            "['a', 'b', 'c']\n",
            "[50, 60, 70]\n",
            "[40, 50, 60]\n"
          ]
        }
      ]
    },
    {
      "cell_type": "code",
      "source": [
        "# 딕셔너리의 key와 value 값 출력:\n",
        "for key, value in tmp_dict.items():\n",
        "  print(\"key : \", key)\n",
        "  print(\"value : \", value)\n",
        "\n"
      ],
      "metadata": {
        "colab": {
          "base_uri": "https://localhost:8080/"
        },
        "id": "XEgYC-KsrFfj",
        "outputId": "f5b66be0-1920-4639-a2f8-3ad2f6c76001"
      },
      "execution_count": null,
      "outputs": [
        {
          "output_type": "stream",
          "name": "stdout",
          "text": [
            "key :  id\n",
            "value :  ['a', 'b', 'c']\n",
            "key :  kor\n",
            "value :  [50, 60, 70]\n",
            "key :  eng\n",
            "value :  [40, 50, 60]\n"
          ]
        }
      ]
    },
    {
      "cell_type": "code",
      "source": [
        "a = [[1,2],\n",
        "     [3,4],\n",
        "     [5,6]\n",
        "     ]\n",
        "\n",
        "# import numpy as np\n",
        "# a_np = np.array(a)\n",
        "# a\n",
        "\n",
        "for i in a:\n",
        "  for j in i:\n",
        "    print(j)\n",
        "\n",
        "# print(a[2][1])"
      ],
      "metadata": {
        "colab": {
          "base_uri": "https://localhost:8080/"
        },
        "id": "UJo7Bnu1rgPe",
        "outputId": "5a865357-65b5-46dd-f69d-a0aa4ba18ee4"
      },
      "execution_count": null,
      "outputs": [
        {
          "output_type": "stream",
          "name": "stdout",
          "text": [
            "1\n",
            "2\n",
            "3\n",
            "4\n",
            "5\n",
            "6\n",
            "6\n"
          ]
        }
      ]
    },
    {
      "cell_type": "code",
      "source": [
        "# *\n",
        "# **\n",
        "# ***\n",
        "# 반복문을 써서 위 그림을 출력하시오\n",
        "\n",
        "for i in range(3):\n",
        "  print(\"*\"*(i+1))\n",
        "\n",
        "print()\n",
        "\n",
        "for i in range(3):\n",
        "  print(\"*\"*(3-i))\n",
        "\n",
        "print()\n"
      ],
      "metadata": {
        "colab": {
          "base_uri": "https://localhost:8080/"
        },
        "id": "JrloXTZZsFwa",
        "outputId": "bc035971-542c-4e03-e352-fdc473006b8f"
      },
      "execution_count": null,
      "outputs": [
        {
          "output_type": "stream",
          "name": "stdout",
          "text": [
            "*\n",
            "**\n",
            "***\n",
            "\n",
            "***\n",
            "**\n",
            "*\n",
            "\n"
          ]
        }
      ]
    },
    {
      "cell_type": "code",
      "source": [
        "for i in range(1, 6):\n",
        "  if i<= 3:\n",
        "    for j in range(1, 2*i):\n",
        "      print(\"*\", end =\"\")\n",
        "\n",
        "  else:\n",
        "    for j in range(1, 12-(i*2)):\n",
        "      print(\"*\", end=\"\")\n",
        "  print()\n"
      ],
      "metadata": {
        "colab": {
          "base_uri": "https://localhost:8080/"
        },
        "id": "Okbv_95wudVF",
        "outputId": "c95132b6-0ef4-4513-d099-e7844e103df9"
      },
      "execution_count": null,
      "outputs": [
        {
          "output_type": "stream",
          "name": "stdout",
          "text": [
            "*\n",
            "***\n",
            "*****\n",
            "***\n",
            "*\n"
          ]
        }
      ]
    },
    {
      "cell_type": "code",
      "source": [
        "# 텍스트 파일 읽기\n",
        "# ver1.\n",
        "f = open ('./word.txt', 'r')\n",
        "\n",
        "while True:\n",
        "  line = f.readline()\n",
        "\n",
        "  if not line:\n",
        "    break\n",
        "  print(line, end=\"\")\n",
        "f.close()\n",
        "\n"
      ],
      "metadata": {
        "id": "0m28kfWsw2Td",
        "colab": {
          "base_uri": "https://localhost:8080/"
        },
        "outputId": "29b1d8e6-0195-480e-9b85-3df0b226150e"
      },
      "execution_count": null,
      "outputs": [
        {
          "output_type": "stream",
          "name": "stdout",
          "text": [
            "aaa\n",
            "bbb\n",
            "ccc\n",
            "ddd\n",
            "eee\n"
          ]
        }
      ]
    },
    {
      "cell_type": "code",
      "source": [
        "# ver2.\n",
        "# with 함수를 이용한 읽기 방법\n",
        "with open('./word.txt', 'r') as f:\n",
        "  while True:\n",
        "    line = f.readline()\n",
        "    if not line:\n",
        "      break\n",
        "    print(line, end=\"\")\n"
      ],
      "metadata": {
        "id": "UeQaYCBEyQ5t",
        "colab": {
          "base_uri": "https://localhost:8080/"
        },
        "outputId": "4d6e6c45-76c2-41bb-ea78-8ff4d422fed8"
      },
      "execution_count": null,
      "outputs": [
        {
          "output_type": "stream",
          "name": "stdout",
          "text": [
            "aaa\n",
            "bbb\n",
            "ccc\n",
            "ddd\n",
            "eee\n"
          ]
        }
      ]
    },
    {
      "cell_type": "code",
      "source": [
        "# 읽어서 이스트로 받아오기\n",
        "with open('./word.txt', 'r') as f:\n",
        "  tmp_list = f.readlines()\n",
        "  emp_list = [val.strip() for val in tmp_list]\n",
        "print(tmp_list)\n"
      ],
      "metadata": {
        "id": "VNEzxDBRzBu3",
        "colab": {
          "base_uri": "https://localhost:8080/"
        },
        "outputId": "85ef30d9-1719-4118-9c41-344fa29797dd"
      },
      "execution_count": null,
      "outputs": [
        {
          "output_type": "stream",
          "name": "stdout",
          "text": [
            "['aaa\\n', 'bbb\\n', 'ccc\\n', 'ddd\\n', 'eee\\n']\n"
          ]
        }
      ]
    },
    {
      "cell_type": "code",
      "source": [
        "# 저장하기\n",
        "# mode : 'a', 'r', 'w'\n",
        "# a : 붙여쓰기\n",
        "# r : 읽기\n",
        "# w : 쓰기\n",
        "with open('./tmp_test.txt', mode='w') as f:\n",
        "  f.write('이동진 빅데이터 강사')\n",
        "\n",
        "\n"
      ],
      "metadata": {
        "id": "IUL2BkQRzbkx"
      },
      "execution_count": null,
      "outputs": []
    },
    {
      "cell_type": "code",
      "source": [
        "with open('./tmp_test.txt', mode='w') as f:\n",
        "  f.write('\\n이동진 빅데이터 강사')"
      ],
      "metadata": {
        "id": "vw_BpVrs1iWu"
      },
      "execution_count": null,
      "outputs": []
    },
    {
      "cell_type": "code",
      "source": [
        "with open('./tmp_text.txt', mode='a') as f:\n",
        "\n",
        "  for idx, text in enumerate(tmp_list):\n",
        "    if idx == len(tmp_list)-1:\n",
        "      f.write(text)\n",
        "    else:\n",
        "      f.write(text+'\\n')\n"
      ],
      "metadata": {
        "id": "-pBU2zm11SU3"
      },
      "execution_count": null,
      "outputs": []
    },
    {
      "cell_type": "code",
      "source": [
        "li = ['aaa','bbb','ccc']\n",
        "print(len(li))\n",
        "for idx, text in enumerate(li):\n",
        "  print(f\"idx : {idx}\")\n",
        "  print(f\"text : {text}\")"
      ],
      "metadata": {
        "colab": {
          "base_uri": "https://localhost:8080/"
        },
        "id": "ixfw_0Y413qU",
        "outputId": "bcd7661a-077c-4abb-8055-fdbbe150e09b"
      },
      "execution_count": null,
      "outputs": [
        {
          "output_type": "stream",
          "name": "stdout",
          "text": [
            "3\n",
            "idx : 0\n",
            "text : aaa\n",
            "idx : 1\n",
            "text : bbb\n",
            "idx : 2\n",
            "text : ccc\n"
          ]
        }
      ]
    },
    {
      "cell_type": "code",
      "source": [
        "# 사용자함수 만들기\n",
        "#\n",
        "# def 함수이름(변수):\n",
        "#   수행문\n",
        "with open('./word.txt', mode='a') as f:\n",
        "  f.write('aaa')\n"
      ],
      "metadata": {
        "id": "-0Msj8If2LrQ"
      },
      "execution_count": null,
      "outputs": []
    },
    {
      "cell_type": "code",
      "source": [
        "def custom_sum(a,b):\n",
        "  sum = a+b\n",
        "  return sum\n",
        "\n",
        "result = custom_sum(10, 20)\n",
        "\n",
        "print(result)"
      ],
      "metadata": {
        "id": "eTFijtb_2bRJ",
        "colab": {
          "base_uri": "https://localhost:8080/"
        },
        "outputId": "9dbac1fc-23f1-4d43-c421-3d616d60590c"
      },
      "execution_count": null,
      "outputs": [
        {
          "output_type": "stream",
          "name": "stdout",
          "text": [
            "30\n"
          ]
        }
      ]
    },
    {
      "cell_type": "code",
      "source": [
        "def custom_save_text(li, file_name) :\n",
        "  with open(f'./{file_name}.text', mode='a') as f:\n",
        "    for idx, text in enumerate(li):\n",
        "      if idx == len(tmp_list)-1:\n",
        "        f.write(text)\n",
        "      else:\n",
        "        f.write(text+'\\n')\n"
      ],
      "metadata": {
        "id": "mew1y1UL24XR"
      },
      "execution_count": null,
      "outputs": []
    },
    {
      "cell_type": "code",
      "source": [
        "custom_save_text(li=tmp_list, file_name='save_test')"
      ],
      "metadata": {
        "id": "0mf-4k0m3Sq1"
      },
      "execution_count": null,
      "outputs": []
    },
    {
      "cell_type": "code",
      "source": [
        "# word.txt 파일을 읽어서 안에 있는 값을 key로 값의 수량으 value로 하는 딕셔너리 구현\n",
        "\n",
        "result = {}\n",
        "\n",
        "with open('./word.txt', 'r') as f:\n",
        "  while True:\n",
        "    line = f.readline().strip()\n",
        "    if not line:\n",
        "      break\n",
        "    \n",
        "    a = line.split(' ')\n",
        "\n",
        "    for tmp in a:\n",
        "      result[tmp] += 1\n",
        "    print(result)\n",
        "\n",
        "\n"
      ],
      "metadata": {
        "colab": {
          "base_uri": "https://localhost:8080/"
        },
        "id": "WdyZbFJ34FXB",
        "outputId": "91a3edd6-ea26-4731-d93a-b471bff71f0d"
      },
      "execution_count": null,
      "outputs": [
        {
          "output_type": "stream",
          "name": "stdout",
          "text": [
            "{'aaa': 1}\n",
            "{'aaa': 1, 'bbb': 1}\n",
            "{'aaa': 1, 'bbb': 1, 'ccc': 1}\n",
            "{'aaa': 1, 'bbb': 1, 'ccc': 1, 'ddd': 1}\n",
            "{'aaa': 1, 'bbb': 1, 'ccc': 1, 'ddd': 1, 'eee': 1}\n",
            "{'aaa': 2, 'bbb': 1, 'ccc': 1, 'ddd': 1, 'eee': 1}\n"
          ]
        }
      ]
    },
    {
      "cell_type": "markdown",
      "source": [
        "# 새 섹션"
      ],
      "metadata": {
        "id": "6gChkVQJyG4c"
      }
    },
    {
      "cell_type": "code",
      "source": [
        "data = {\"ret\":{\"id\":\"a386\", \"name\":\"123\", \"age\":34}, \"ret1\":{\"id\":\"a383\", \"name\":\"123\", \"age\":36}}\n",
        "print(data)"
      ],
      "metadata": {
        "colab": {
          "base_uri": "https://localhost:8080/"
        },
        "id": "61koglo06EBD",
        "outputId": "dc8805c1-cc0c-47f9-da8e-622c31dd4cad"
      },
      "execution_count": null,
      "outputs": [
        {
          "output_type": "stream",
          "name": "stdout",
          "text": [
            "{'ret': {'id': 'a386', 'name': '123', 'age': 34}, 'ret1': {'id': 'a383', 'name': '123', 'age': 36}}\n"
          ]
        }
      ]
    },
    {
      "cell_type": "code",
      "source": [
        "# data의 각 정보를 추출해서 LIST를 만들고 DATAFRAME까지 구성하기\n",
        "\n",
        "id = []\n",
        "name = []\n",
        "age = []\n",
        "\n",
        "for key in data:\n",
        "  id.append(data[key]['id'])\n",
        "  name.append(data[key]['name'])\n",
        "  age.append(data[key]['age'])\n",
        "\n",
        "print(id)\n",
        "print(name)\n",
        "print(age)\n",
        "\n",
        "import pandas as pd\n",
        "df = pd.DataFrame(zip(id, name, age))\n",
        "df\n"
      ],
      "metadata": {
        "colab": {
          "base_uri": "https://localhost:8080/",
          "height": 167
        },
        "id": "kFe7SN1-6kD6",
        "outputId": "1708fea1-5221-4461-ffcb-37f7f6ba0e68"
      },
      "execution_count": null,
      "outputs": [
        {
          "output_type": "stream",
          "name": "stdout",
          "text": [
            "['a386', 'a383']\n",
            "['123', '123']\n",
            "[34, 36]\n"
          ]
        },
        {
          "output_type": "execute_result",
          "data": {
            "text/plain": [
              "      0    1   2\n",
              "0  a386  123  34\n",
              "1  a383  123  36"
            ],
            "text/html": [
              "\n",
              "  <div id=\"df-4accbc3e-b972-4511-9f80-f6e83b9f0d7b\">\n",
              "    <div class=\"colab-df-container\">\n",
              "      <div>\n",
              "<style scoped>\n",
              "    .dataframe tbody tr th:only-of-type {\n",
              "        vertical-align: middle;\n",
              "    }\n",
              "\n",
              "    .dataframe tbody tr th {\n",
              "        vertical-align: top;\n",
              "    }\n",
              "\n",
              "    .dataframe thead th {\n",
              "        text-align: right;\n",
              "    }\n",
              "</style>\n",
              "<table border=\"1\" class=\"dataframe\">\n",
              "  <thead>\n",
              "    <tr style=\"text-align: right;\">\n",
              "      <th></th>\n",
              "      <th>0</th>\n",
              "      <th>1</th>\n",
              "      <th>2</th>\n",
              "    </tr>\n",
              "  </thead>\n",
              "  <tbody>\n",
              "    <tr>\n",
              "      <th>0</th>\n",
              "      <td>a386</td>\n",
              "      <td>123</td>\n",
              "      <td>34</td>\n",
              "    </tr>\n",
              "    <tr>\n",
              "      <th>1</th>\n",
              "      <td>a383</td>\n",
              "      <td>123</td>\n",
              "      <td>36</td>\n",
              "    </tr>\n",
              "  </tbody>\n",
              "</table>\n",
              "</div>\n",
              "      <button class=\"colab-df-convert\" onclick=\"convertToInteractive('df-4accbc3e-b972-4511-9f80-f6e83b9f0d7b')\"\n",
              "              title=\"Convert this dataframe to an interactive table.\"\n",
              "              style=\"display:none;\">\n",
              "        \n",
              "  <svg xmlns=\"http://www.w3.org/2000/svg\" height=\"24px\"viewBox=\"0 0 24 24\"\n",
              "       width=\"24px\">\n",
              "    <path d=\"M0 0h24v24H0V0z\" fill=\"none\"/>\n",
              "    <path d=\"M18.56 5.44l.94 2.06.94-2.06 2.06-.94-2.06-.94-.94-2.06-.94 2.06-2.06.94zm-11 1L8.5 8.5l.94-2.06 2.06-.94-2.06-.94L8.5 2.5l-.94 2.06-2.06.94zm10 10l.94 2.06.94-2.06 2.06-.94-2.06-.94-.94-2.06-.94 2.06-2.06.94z\"/><path d=\"M17.41 7.96l-1.37-1.37c-.4-.4-.92-.59-1.43-.59-.52 0-1.04.2-1.43.59L10.3 9.45l-7.72 7.72c-.78.78-.78 2.05 0 2.83L4 21.41c.39.39.9.59 1.41.59.51 0 1.02-.2 1.41-.59l7.78-7.78 2.81-2.81c.8-.78.8-2.07 0-2.86zM5.41 20L4 18.59l7.72-7.72 1.47 1.35L5.41 20z\"/>\n",
              "  </svg>\n",
              "      </button>\n",
              "      \n",
              "  <style>\n",
              "    .colab-df-container {\n",
              "      display:flex;\n",
              "      flex-wrap:wrap;\n",
              "      gap: 12px;\n",
              "    }\n",
              "\n",
              "    .colab-df-convert {\n",
              "      background-color: #E8F0FE;\n",
              "      border: none;\n",
              "      border-radius: 50%;\n",
              "      cursor: pointer;\n",
              "      display: none;\n",
              "      fill: #1967D2;\n",
              "      height: 32px;\n",
              "      padding: 0 0 0 0;\n",
              "      width: 32px;\n",
              "    }\n",
              "\n",
              "    .colab-df-convert:hover {\n",
              "      background-color: #E2EBFA;\n",
              "      box-shadow: 0px 1px 2px rgba(60, 64, 67, 0.3), 0px 1px 3px 1px rgba(60, 64, 67, 0.15);\n",
              "      fill: #174EA6;\n",
              "    }\n",
              "\n",
              "    [theme=dark] .colab-df-convert {\n",
              "      background-color: #3B4455;\n",
              "      fill: #D2E3FC;\n",
              "    }\n",
              "\n",
              "    [theme=dark] .colab-df-convert:hover {\n",
              "      background-color: #434B5C;\n",
              "      box-shadow: 0px 1px 3px 1px rgba(0, 0, 0, 0.15);\n",
              "      filter: drop-shadow(0px 1px 2px rgba(0, 0, 0, 0.3));\n",
              "      fill: #FFFFFF;\n",
              "    }\n",
              "  </style>\n",
              "\n",
              "      <script>\n",
              "        const buttonEl =\n",
              "          document.querySelector('#df-4accbc3e-b972-4511-9f80-f6e83b9f0d7b button.colab-df-convert');\n",
              "        buttonEl.style.display =\n",
              "          google.colab.kernel.accessAllowed ? 'block' : 'none';\n",
              "\n",
              "        async function convertToInteractive(key) {\n",
              "          const element = document.querySelector('#df-4accbc3e-b972-4511-9f80-f6e83b9f0d7b');\n",
              "          const dataTable =\n",
              "            await google.colab.kernel.invokeFunction('convertToInteractive',\n",
              "                                                     [key], {});\n",
              "          if (!dataTable) return;\n",
              "\n",
              "          const docLinkHtml = 'Like what you see? Visit the ' +\n",
              "            '<a target=\"_blank\" href=https://colab.research.google.com/notebooks/data_table.ipynb>data table notebook</a>'\n",
              "            + ' to learn more about interactive tables.';\n",
              "          element.innerHTML = '';\n",
              "          dataTable['output_type'] = 'display_data';\n",
              "          await google.colab.output.renderOutput(dataTable, element);\n",
              "          const docLink = document.createElement('div');\n",
              "          docLink.innerHTML = docLinkHtml;\n",
              "          element.appendChild(docLink);\n",
              "        }\n",
              "      </script>\n",
              "    </div>\n",
              "  </div>\n",
              "  "
            ]
          },
          "metadata": {},
          "execution_count": 119
        }
      ]
    },
    {
      "cell_type": "code",
      "source": [
        "data = {\"ret\":\"y\", \"data\":[{\"id\":\"id1\", \"name\":\"가나다1\", \"age\":31},\n",
        "                           {\"id\":\"id2\", \"name\":\"가나다2\", \"age\":32},\n",
        "                           {\"id\":\"id3\", \"name\":\"가나다3\", \"age\":33},\n",
        "                           {\"id\":\"id4\", \"name\":\"가나다4\", \"age\":34},\n",
        "                           {\"id\":\"id5\", \"name\":\"가나다5\", \"age\":35}\n",
        "                           ], 'ret':'y'\n",
        "                           }\n",
        "                           \n"
      ],
      "metadata": {
        "id": "Ud8rruG59zFR"
      },
      "execution_count": null,
      "outputs": []
    },
    {
      "cell_type": "code",
      "source": [
        "data[\"data\"]"
      ],
      "metadata": {
        "colab": {
          "base_uri": "https://localhost:8080/"
        },
        "id": "e2WBZDea6hjE",
        "outputId": "2ac654fe-8a78-4b7d-86c1-654587c4084a"
      },
      "execution_count": null,
      "outputs": [
        {
          "output_type": "execute_result",
          "data": {
            "text/plain": [
              "[{'age': 31, 'id': 'id1', 'name': '가나다1'},\n",
              " {'age': 32, 'id': 'id2', 'name': '가나다2'},\n",
              " {'age': 33, 'id': 'id3', 'name': '가나다3'},\n",
              " {'age': 34, 'id': 'id4', 'name': '가나다4'},\n",
              " {'age': 35, 'id': 'id5', 'name': '가나다5'}]"
            ]
          },
          "metadata": {},
          "execution_count": 123
        }
      ]
    },
    {
      "cell_type": "code",
      "source": [
        "data[\"data\"][0]\n",
        "data[\"data\"][0][\"age\"]"
      ],
      "metadata": {
        "colab": {
          "base_uri": "https://localhost:8080/"
        },
        "id": "DeBrj9Iy_R9z",
        "outputId": "00ff9b6d-0dc2-4fbe-b5af-daaa3f7721eb"
      },
      "execution_count": null,
      "outputs": [
        {
          "output_type": "execute_result",
          "data": {
            "text/plain": [
              "31"
            ]
          },
          "metadata": {},
          "execution_count": 128
        }
      ]
    },
    {
      "cell_type": "code",
      "source": [
        "ids =[]\n",
        "names =[]\n",
        "ages = []\n",
        "for d in data[\"data\"]:\n",
        "  ids.append(d['id'])\n",
        "  names.append(d['name'])\n",
        "  ages.append(d['age'])\n",
        "df = pd.DataFrame(zip(ids, names, ages))\n",
        "df\n"
      ],
      "metadata": {
        "colab": {
          "base_uri": "https://localhost:8080/",
          "height": 206
        },
        "id": "sWz_ZRu__cA9",
        "outputId": "69b18937-a717-4d26-efe3-021392b86604"
      },
      "execution_count": null,
      "outputs": [
        {
          "output_type": "execute_result",
          "data": {
            "text/plain": [
              "     0     1   2\n",
              "0  id1  가나다1  31\n",
              "1  id2  가나다2  32\n",
              "2  id3  가나다3  33\n",
              "3  id4  가나다4  34\n",
              "4  id5  가나다5  35"
            ],
            "text/html": [
              "\n",
              "  <div id=\"df-ae11d5c7-cf03-48c1-9438-1318098ff17a\">\n",
              "    <div class=\"colab-df-container\">\n",
              "      <div>\n",
              "<style scoped>\n",
              "    .dataframe tbody tr th:only-of-type {\n",
              "        vertical-align: middle;\n",
              "    }\n",
              "\n",
              "    .dataframe tbody tr th {\n",
              "        vertical-align: top;\n",
              "    }\n",
              "\n",
              "    .dataframe thead th {\n",
              "        text-align: right;\n",
              "    }\n",
              "</style>\n",
              "<table border=\"1\" class=\"dataframe\">\n",
              "  <thead>\n",
              "    <tr style=\"text-align: right;\">\n",
              "      <th></th>\n",
              "      <th>0</th>\n",
              "      <th>1</th>\n",
              "      <th>2</th>\n",
              "    </tr>\n",
              "  </thead>\n",
              "  <tbody>\n",
              "    <tr>\n",
              "      <th>0</th>\n",
              "      <td>id1</td>\n",
              "      <td>가나다1</td>\n",
              "      <td>31</td>\n",
              "    </tr>\n",
              "    <tr>\n",
              "      <th>1</th>\n",
              "      <td>id2</td>\n",
              "      <td>가나다2</td>\n",
              "      <td>32</td>\n",
              "    </tr>\n",
              "    <tr>\n",
              "      <th>2</th>\n",
              "      <td>id3</td>\n",
              "      <td>가나다3</td>\n",
              "      <td>33</td>\n",
              "    </tr>\n",
              "    <tr>\n",
              "      <th>3</th>\n",
              "      <td>id4</td>\n",
              "      <td>가나다4</td>\n",
              "      <td>34</td>\n",
              "    </tr>\n",
              "    <tr>\n",
              "      <th>4</th>\n",
              "      <td>id5</td>\n",
              "      <td>가나다5</td>\n",
              "      <td>35</td>\n",
              "    </tr>\n",
              "  </tbody>\n",
              "</table>\n",
              "</div>\n",
              "      <button class=\"colab-df-convert\" onclick=\"convertToInteractive('df-ae11d5c7-cf03-48c1-9438-1318098ff17a')\"\n",
              "              title=\"Convert this dataframe to an interactive table.\"\n",
              "              style=\"display:none;\">\n",
              "        \n",
              "  <svg xmlns=\"http://www.w3.org/2000/svg\" height=\"24px\"viewBox=\"0 0 24 24\"\n",
              "       width=\"24px\">\n",
              "    <path d=\"M0 0h24v24H0V0z\" fill=\"none\"/>\n",
              "    <path d=\"M18.56 5.44l.94 2.06.94-2.06 2.06-.94-2.06-.94-.94-2.06-.94 2.06-2.06.94zm-11 1L8.5 8.5l.94-2.06 2.06-.94-2.06-.94L8.5 2.5l-.94 2.06-2.06.94zm10 10l.94 2.06.94-2.06 2.06-.94-2.06-.94-.94-2.06-.94 2.06-2.06.94z\"/><path d=\"M17.41 7.96l-1.37-1.37c-.4-.4-.92-.59-1.43-.59-.52 0-1.04.2-1.43.59L10.3 9.45l-7.72 7.72c-.78.78-.78 2.05 0 2.83L4 21.41c.39.39.9.59 1.41.59.51 0 1.02-.2 1.41-.59l7.78-7.78 2.81-2.81c.8-.78.8-2.07 0-2.86zM5.41 20L4 18.59l7.72-7.72 1.47 1.35L5.41 20z\"/>\n",
              "  </svg>\n",
              "      </button>\n",
              "      \n",
              "  <style>\n",
              "    .colab-df-container {\n",
              "      display:flex;\n",
              "      flex-wrap:wrap;\n",
              "      gap: 12px;\n",
              "    }\n",
              "\n",
              "    .colab-df-convert {\n",
              "      background-color: #E8F0FE;\n",
              "      border: none;\n",
              "      border-radius: 50%;\n",
              "      cursor: pointer;\n",
              "      display: none;\n",
              "      fill: #1967D2;\n",
              "      height: 32px;\n",
              "      padding: 0 0 0 0;\n",
              "      width: 32px;\n",
              "    }\n",
              "\n",
              "    .colab-df-convert:hover {\n",
              "      background-color: #E2EBFA;\n",
              "      box-shadow: 0px 1px 2px rgba(60, 64, 67, 0.3), 0px 1px 3px 1px rgba(60, 64, 67, 0.15);\n",
              "      fill: #174EA6;\n",
              "    }\n",
              "\n",
              "    [theme=dark] .colab-df-convert {\n",
              "      background-color: #3B4455;\n",
              "      fill: #D2E3FC;\n",
              "    }\n",
              "\n",
              "    [theme=dark] .colab-df-convert:hover {\n",
              "      background-color: #434B5C;\n",
              "      box-shadow: 0px 1px 3px 1px rgba(0, 0, 0, 0.15);\n",
              "      filter: drop-shadow(0px 1px 2px rgba(0, 0, 0, 0.3));\n",
              "      fill: #FFFFFF;\n",
              "    }\n",
              "  </style>\n",
              "\n",
              "      <script>\n",
              "        const buttonEl =\n",
              "          document.querySelector('#df-ae11d5c7-cf03-48c1-9438-1318098ff17a button.colab-df-convert');\n",
              "        buttonEl.style.display =\n",
              "          google.colab.kernel.accessAllowed ? 'block' : 'none';\n",
              "\n",
              "        async function convertToInteractive(key) {\n",
              "          const element = document.querySelector('#df-ae11d5c7-cf03-48c1-9438-1318098ff17a');\n",
              "          const dataTable =\n",
              "            await google.colab.kernel.invokeFunction('convertToInteractive',\n",
              "                                                     [key], {});\n",
              "          if (!dataTable) return;\n",
              "\n",
              "          const docLinkHtml = 'Like what you see? Visit the ' +\n",
              "            '<a target=\"_blank\" href=https://colab.research.google.com/notebooks/data_table.ipynb>data table notebook</a>'\n",
              "            + ' to learn more about interactive tables.';\n",
              "          element.innerHTML = '';\n",
              "          dataTable['output_type'] = 'display_data';\n",
              "          await google.colab.output.renderOutput(dataTable, element);\n",
              "          const docLink = document.createElement('div');\n",
              "          docLink.innerHTML = docLinkHtml;\n",
              "          element.appendChild(docLink);\n",
              "        }\n",
              "      </script>\n",
              "    </div>\n",
              "  </div>\n",
              "  "
            ]
          },
          "metadata": {},
          "execution_count": 130
        }
      ]
    },
    {
      "cell_type": "code",
      "source": [
        "# data파일에서 해당하는 정보들을 추출하고 total값을 만들어서 dataframe까지 구성하기\n",
        "data = {\"data\": [{\"age\":31, \"id\":\"id1\", \"name\":\"가나다\", \"score\":{'eng':90, 'kor':69, 'math':50}},\n",
        "                 {\"age\":32, \"id\":\"id2\", \"name\":\"가나다2\", \"score\":{'eng':68, 'kor':80, 'math':90}},\n",
        "                 {\"age\":33, \"id\":\"id3\", \"name\":\"가나다3\", \"score\":{'eng':76, 'kor':60, 'math':70}},\n",
        "                 {\"age\":34, \"id\":\"id4\", \"name\":\"가나다4\", \"score\":{'eng':79, 'kor':50, 'math':80}},\n",
        "                 {\"age\":35, \"id\":\"id5\", \"name\":\"가나다5\", \"score\":{'eng':78, 'kor':90, 'math':80}}\n",
        "                  ], 'ret':'y'}\n",
        "data"
      ],
      "metadata": {
        "colab": {
          "base_uri": "https://localhost:8080/"
        },
        "id": "w3xYDBcc_27u",
        "outputId": "d49ce92a-3dcf-414b-a104-5190a51b2029"
      },
      "execution_count": null,
      "outputs": [
        {
          "output_type": "execute_result",
          "data": {
            "text/plain": [
              "{'data': [{'age': 31,\n",
              "   'id': 'id1',\n",
              "   'name': '가나다',\n",
              "   'score': {'eng': 90, 'kor': 69, 'math': 50}},\n",
              "  {'age': 32,\n",
              "   'id': 'id2',\n",
              "   'name': '가나다2',\n",
              "   'score': {'eng': 68, 'kor': 80, 'math': 90}},\n",
              "  {'age': 33,\n",
              "   'id': 'id3',\n",
              "   'name': '가나다3',\n",
              "   'score': {'eng': 76, 'kor': 60, 'math': 70}},\n",
              "  {'age': 34,\n",
              "   'id': 'id4',\n",
              "   'name': '가나다4',\n",
              "   'score': {'eng': 79, 'kor': 50, 'math': 80}},\n",
              "  {'age': 35,\n",
              "   'id': 'id5',\n",
              "   'name': '가나다5',\n",
              "   'score': {'eng': 78, 'kor': 90, 'math': 80}}],\n",
              " 'ret': 'y'}"
            ]
          },
          "metadata": {},
          "execution_count": 132
        }
      ]
    },
    {
      "cell_type": "code",
      "source": [
        "id = []\n",
        "name = []\n",
        "age = []\n",
        "math = []\n",
        "eng = []\n",
        "kor = []\n",
        "total = []\n",
        "\n",
        "for d in data[\"data\"]:\n",
        "  id.append(d['id'])\n",
        "  name.append(d['name'])\n",
        "  age.append(d['age'])\n",
        "  math.append(d['score']['math'])\n",
        "  eng.append(d['score']['eng'])\n",
        "  kor.append(d['score']['kor'])\n",
        "  total.append(d['score']['math']+d['score']['eng']+d['score']['kor'])\n",
        "\n",
        "  for index, value in enumerate(total):\n",
        "    data['data'][index]['score']['total']=value\n",
        "\n",
        "df = pd.DataFrame(zip(id, name, age, math, eng, kor, total))\n",
        "df\n"
      ],
      "metadata": {
        "colab": {
          "base_uri": "https://localhost:8080/",
          "height": 206
        },
        "id": "DZUW1kT3Brli",
        "outputId": "412887fb-16f2-4144-a88a-81d97f75db77"
      },
      "execution_count": null,
      "outputs": [
        {
          "output_type": "execute_result",
          "data": {
            "text/plain": [
              "     0     1   2   3   4   5    6\n",
              "0  id1   가나다  31  50  90  69  209\n",
              "1  id2  가나다2  32  90  68  80  238\n",
              "2  id3  가나다3  33  70  76  60  206\n",
              "3  id4  가나다4  34  80  79  50  209\n",
              "4  id5  가나다5  35  80  78  90  248"
            ],
            "text/html": [
              "\n",
              "  <div id=\"df-ac6b1d64-5408-4f74-9e88-18fb78161e3b\">\n",
              "    <div class=\"colab-df-container\">\n",
              "      <div>\n",
              "<style scoped>\n",
              "    .dataframe tbody tr th:only-of-type {\n",
              "        vertical-align: middle;\n",
              "    }\n",
              "\n",
              "    .dataframe tbody tr th {\n",
              "        vertical-align: top;\n",
              "    }\n",
              "\n",
              "    .dataframe thead th {\n",
              "        text-align: right;\n",
              "    }\n",
              "</style>\n",
              "<table border=\"1\" class=\"dataframe\">\n",
              "  <thead>\n",
              "    <tr style=\"text-align: right;\">\n",
              "      <th></th>\n",
              "      <th>0</th>\n",
              "      <th>1</th>\n",
              "      <th>2</th>\n",
              "      <th>3</th>\n",
              "      <th>4</th>\n",
              "      <th>5</th>\n",
              "      <th>6</th>\n",
              "    </tr>\n",
              "  </thead>\n",
              "  <tbody>\n",
              "    <tr>\n",
              "      <th>0</th>\n",
              "      <td>id1</td>\n",
              "      <td>가나다</td>\n",
              "      <td>31</td>\n",
              "      <td>50</td>\n",
              "      <td>90</td>\n",
              "      <td>69</td>\n",
              "      <td>209</td>\n",
              "    </tr>\n",
              "    <tr>\n",
              "      <th>1</th>\n",
              "      <td>id2</td>\n",
              "      <td>가나다2</td>\n",
              "      <td>32</td>\n",
              "      <td>90</td>\n",
              "      <td>68</td>\n",
              "      <td>80</td>\n",
              "      <td>238</td>\n",
              "    </tr>\n",
              "    <tr>\n",
              "      <th>2</th>\n",
              "      <td>id3</td>\n",
              "      <td>가나다3</td>\n",
              "      <td>33</td>\n",
              "      <td>70</td>\n",
              "      <td>76</td>\n",
              "      <td>60</td>\n",
              "      <td>206</td>\n",
              "    </tr>\n",
              "    <tr>\n",
              "      <th>3</th>\n",
              "      <td>id4</td>\n",
              "      <td>가나다4</td>\n",
              "      <td>34</td>\n",
              "      <td>80</td>\n",
              "      <td>79</td>\n",
              "      <td>50</td>\n",
              "      <td>209</td>\n",
              "    </tr>\n",
              "    <tr>\n",
              "      <th>4</th>\n",
              "      <td>id5</td>\n",
              "      <td>가나다5</td>\n",
              "      <td>35</td>\n",
              "      <td>80</td>\n",
              "      <td>78</td>\n",
              "      <td>90</td>\n",
              "      <td>248</td>\n",
              "    </tr>\n",
              "  </tbody>\n",
              "</table>\n",
              "</div>\n",
              "      <button class=\"colab-df-convert\" onclick=\"convertToInteractive('df-ac6b1d64-5408-4f74-9e88-18fb78161e3b')\"\n",
              "              title=\"Convert this dataframe to an interactive table.\"\n",
              "              style=\"display:none;\">\n",
              "        \n",
              "  <svg xmlns=\"http://www.w3.org/2000/svg\" height=\"24px\"viewBox=\"0 0 24 24\"\n",
              "       width=\"24px\">\n",
              "    <path d=\"M0 0h24v24H0V0z\" fill=\"none\"/>\n",
              "    <path d=\"M18.56 5.44l.94 2.06.94-2.06 2.06-.94-2.06-.94-.94-2.06-.94 2.06-2.06.94zm-11 1L8.5 8.5l.94-2.06 2.06-.94-2.06-.94L8.5 2.5l-.94 2.06-2.06.94zm10 10l.94 2.06.94-2.06 2.06-.94-2.06-.94-.94-2.06-.94 2.06-2.06.94z\"/><path d=\"M17.41 7.96l-1.37-1.37c-.4-.4-.92-.59-1.43-.59-.52 0-1.04.2-1.43.59L10.3 9.45l-7.72 7.72c-.78.78-.78 2.05 0 2.83L4 21.41c.39.39.9.59 1.41.59.51 0 1.02-.2 1.41-.59l7.78-7.78 2.81-2.81c.8-.78.8-2.07 0-2.86zM5.41 20L4 18.59l7.72-7.72 1.47 1.35L5.41 20z\"/>\n",
              "  </svg>\n",
              "      </button>\n",
              "      \n",
              "  <style>\n",
              "    .colab-df-container {\n",
              "      display:flex;\n",
              "      flex-wrap:wrap;\n",
              "      gap: 12px;\n",
              "    }\n",
              "\n",
              "    .colab-df-convert {\n",
              "      background-color: #E8F0FE;\n",
              "      border: none;\n",
              "      border-radius: 50%;\n",
              "      cursor: pointer;\n",
              "      display: none;\n",
              "      fill: #1967D2;\n",
              "      height: 32px;\n",
              "      padding: 0 0 0 0;\n",
              "      width: 32px;\n",
              "    }\n",
              "\n",
              "    .colab-df-convert:hover {\n",
              "      background-color: #E2EBFA;\n",
              "      box-shadow: 0px 1px 2px rgba(60, 64, 67, 0.3), 0px 1px 3px 1px rgba(60, 64, 67, 0.15);\n",
              "      fill: #174EA6;\n",
              "    }\n",
              "\n",
              "    [theme=dark] .colab-df-convert {\n",
              "      background-color: #3B4455;\n",
              "      fill: #D2E3FC;\n",
              "    }\n",
              "\n",
              "    [theme=dark] .colab-df-convert:hover {\n",
              "      background-color: #434B5C;\n",
              "      box-shadow: 0px 1px 3px 1px rgba(0, 0, 0, 0.15);\n",
              "      filter: drop-shadow(0px 1px 2px rgba(0, 0, 0, 0.3));\n",
              "      fill: #FFFFFF;\n",
              "    }\n",
              "  </style>\n",
              "\n",
              "      <script>\n",
              "        const buttonEl =\n",
              "          document.querySelector('#df-ac6b1d64-5408-4f74-9e88-18fb78161e3b button.colab-df-convert');\n",
              "        buttonEl.style.display =\n",
              "          google.colab.kernel.accessAllowed ? 'block' : 'none';\n",
              "\n",
              "        async function convertToInteractive(key) {\n",
              "          const element = document.querySelector('#df-ac6b1d64-5408-4f74-9e88-18fb78161e3b');\n",
              "          const dataTable =\n",
              "            await google.colab.kernel.invokeFunction('convertToInteractive',\n",
              "                                                     [key], {});\n",
              "          if (!dataTable) return;\n",
              "\n",
              "          const docLinkHtml = 'Like what you see? Visit the ' +\n",
              "            '<a target=\"_blank\" href=https://colab.research.google.com/notebooks/data_table.ipynb>data table notebook</a>'\n",
              "            + ' to learn more about interactive tables.';\n",
              "          element.innerHTML = '';\n",
              "          dataTable['output_type'] = 'display_data';\n",
              "          await google.colab.output.renderOutput(dataTable, element);\n",
              "          const docLink = document.createElement('div');\n",
              "          docLink.innerHTML = docLinkHtml;\n",
              "          element.appendChild(docLink);\n",
              "        }\n",
              "      </script>\n",
              "    </div>\n",
              "  </div>\n",
              "  "
            ]
          },
          "metadata": {},
          "execution_count": 155
        }
      ]
    },
    {
      "cell_type": "code",
      "source": [
        "with open('movie.json', mode='r') as f:\n",
        "  while True:\n",
        "    line = f.readline()\n",
        "    if not line:\n",
        "      break\n",
        "    print(line, end=\"\")\n",
        "    print()\n"
      ],
      "metadata": {
        "colab": {
          "base_uri": "https://localhost:8080/"
        },
        "id": "9PL595U4EQbG",
        "outputId": "834a9621-50d7-45cf-ee71-cd1a59ba976e"
      },
      "execution_count": null,
      "outputs": [
        {
          "output_type": "stream",
          "name": "stdout",
          "text": [
            "{\"boxOfficeResult\": {\"boxofficeType\": \"\\uc77c\\ubcc4 \\ubc15\\uc2a4\\uc624\\ud53c\\uc2a4\", \"showRange\": \"20120101~20120101\", \"dailyBoxOfficeList\": [{\"rnum\": \"1\", \"rank\": \"1\", \"rankInten\": \"0\", \"rankOldAndNew\": \"OLD\", \"movieCd\": \"20112207\", \"movieNm\": \"\\ubbf8\\uc158\\uc784\\ud30c\\uc11c\\ube14:\\uace0\\uc2a4\\ud2b8\\ud504\\ub85c\\ud1a0\\ucf5c\", \"openDt\": \"2011-12-15\", \"salesAmt\": \"2776060500\", \"salesShare\": \"36.3\", \"salesInten\": \"-415699000\", \"salesChange\": \"-13\", \"salesAcc\": \"40541108500\", \"audiCnt\": \"353274\", \"audiInten\": \"-60106\", \"audiChange\": \"-14.5\", \"audiAcc\": \"5328435\", \"scrnCnt\": \"697\", \"showCnt\": \"3223\"}, {\"rnum\": \"2\", \"rank\": \"2\", \"rankInten\": \"1\", \"rankOldAndNew\": \"OLD\", \"movieCd\": \"20110295\", \"movieNm\": \"\\ub9c8\\uc774 \\uc6e8\\uc774\", \"openDt\": \"2011-12-21\", \"salesAmt\": \"1189058500\", \"salesShare\": \"15.6\", \"salesInten\": \"-105894500\", \"salesChange\": \"-8.2\", \"salesAcc\": \"13002897500\", \"audiCnt\": \"153501\", \"audiInten\": \"-16465\", \"audiChange\": \"-9.7\", \"audiAcc\": \"1739543\", \"scrnCnt\": \"588\", \"showCnt\": \"2321\"}, {\"rnum\": \"3\", \"rank\": \"3\", \"rankInten\": \"-1\", \"rankOldAndNew\": \"OLD\", \"movieCd\": \"20112621\", \"movieNm\": \"\\uc15c\\ub85d\\ud648\\uc988 : \\uadf8\\ub9bc\\uc790 \\uac8c\\uc784\", \"openDt\": \"2011-12-21\", \"salesAmt\": \"1176022500\", \"salesShare\": \"15.4\", \"salesInten\": \"-210328500\", \"salesChange\": \"-15.2\", \"salesAcc\": \"10678327500\", \"audiCnt\": \"153004\", \"audiInten\": \"-31283\", \"audiChange\": \"-17\", \"audiAcc\": \"1442861\", \"scrnCnt\": \"360\", \"showCnt\": \"1832\"}, {\"rnum\": \"4\", \"rank\": \"4\", \"rankInten\": \"0\", \"rankOldAndNew\": \"OLD\", \"movieCd\": \"20113260\", \"movieNm\": \"\\ud37c\\ud399\\ud2b8 \\uac8c\\uc784\", \"openDt\": \"2011-12-21\", \"salesAmt\": \"644532000\", \"salesShare\": \"8.4\", \"salesInten\": \"-75116500\", \"salesChange\": \"-10.4\", \"salesAcc\": \"6640940000\", \"audiCnt\": \"83644\", \"audiInten\": \"-12225\", \"audiChange\": \"-12.8\", \"audiAcc\": \"895416\", \"scrnCnt\": \"396\", \"showCnt\": \"1364\"}, {\"rnum\": \"5\", \"rank\": \"5\", \"rankInten\": \"0\", \"rankOldAndNew\": \"OLD\", \"movieCd\": \"20113271\", \"movieNm\": \"\\ud504\\ub80c\\uc988: \\ubaac\\uc2a4\\ud130\\uc12c\\uc758\\ube44\\ubc00 \", \"openDt\": \"2011-12-29\", \"salesAmt\": \"436753500\", \"salesShare\": \"5.7\", \"salesInten\": \"-89051000\", \"salesChange\": \"-16.9\", \"salesAcc\": \"1523037000\", \"audiCnt\": \"55092\", \"audiInten\": \"-15568\", \"audiChange\": \"-22\", \"audiAcc\": \"202909\", \"scrnCnt\": \"290\", \"showCnt\": \"838\"}, {\"rnum\": \"6\", \"rank\": \"6\", \"rankInten\": \"1\", \"rankOldAndNew\": \"OLD\", \"movieCd\": \"19940256\", \"movieNm\": \"\\ub77c\\uc774\\uc628 \\ud0b9\", \"openDt\": \"1994-07-02\", \"salesAmt\": \"507115500\", \"salesShare\": \"6.6\", \"salesInten\": \"-114593500\", \"salesChange\": \"-18.4\", \"salesAcc\": \"1841625000\", \"audiCnt\": \"45750\", \"audiInten\": \"-11699\", \"audiChange\": \"-20.4\", \"audiAcc\": \"171285\", \"scrnCnt\": \"244\", \"showCnt\": \"895\"}, {\"rnum\": \"7\", \"rank\": \"7\", \"rankInten\": \"-1\", \"rankOldAndNew\": \"OLD\", \"movieCd\": \"20113381\", \"movieNm\": \"\\uc624\\uc2f9\\ud55c \\uc5f0\\uc560\", \"openDt\": \"2011-12-01\", \"salesAmt\": \"344871000\", \"salesShare\": \"4.5\", \"salesInten\": \"-107005500\", \"salesChange\": \"-23.7\", \"salesAcc\": \"20634684500\", \"audiCnt\": \"45062\", \"audiInten\": \"-15926\", \"audiChange\": \"-26.1\", \"audiAcc\": \"2823060\", \"scrnCnt\": \"243\", \"showCnt\": \"839\"}, {\"rnum\": \"8\", \"rank\": \"8\", \"rankInten\": \"0\", \"rankOldAndNew\": \"OLD\", \"movieCd\": \"20112709\", \"movieNm\": \"\\uadf9\\uc7a5\\ud310 \\ud3ec\\ucf13\\ubaac\\uc2a4\\ud130 \\ubca0\\uc2a4\\ud2b8 \\uc704\\uc2dc\\u300c\\ube44\\ud06c\\ud2f0\\ub2c8\\uc640 \\ubc31\\uc758 \\uc601\\uc6c5 \\ub808\\uc2dc\\ub77c\\ubb34\\u300d\", \"openDt\": \"2011-12-22\", \"salesAmt\": \"167809500\", \"salesShare\": \"2.2\", \"salesInten\": \"-45900500\", \"salesChange\": \"-21.5\", \"salesAcc\": \"1897120000\", \"audiCnt\": \"24202\", \"audiInten\": \"-7756\", \"audiChange\": \"-24.3\", \"audiAcc\": \"285959\", \"scrnCnt\": \"186\", \"showCnt\": \"348\"}, {\"rnum\": \"9\", \"rank\": \"9\", \"rankInten\": \"0\", \"rankOldAndNew\": \"OLD\", \"movieCd\": \"20113311\", \"movieNm\": \"\\uc568\\ube48\\uacfc \\uc288\\ud37c\\ubc34\\ub4dc3\", \"openDt\": \"2011-12-15\", \"salesAmt\": \"137030000\", \"salesShare\": \"1.8\", \"salesInten\": \"-35408000\", \"salesChange\": \"-20.5\", \"salesAcc\": \"3416675000\", \"audiCnt\": \"19729\", \"audiInten\": \"-6461\", \"audiChange\": \"-24.7\", \"audiAcc\": \"516289\", \"scrnCnt\": \"169\", \"showCnt\": \"359\"}, {\"rnum\": \"10\", \"rank\": \"10\", \"rankInten\": \"0\", \"rankOldAndNew\": \"OLD\", \"movieCd\": \"20112708\", \"movieNm\": \"\\uadf9\\uc7a5\\ud310 \\ud3ec\\ucf13\\ubaac\\uc2a4\\ud130 \\ubca0\\uc2a4\\ud2b8 \\uc704\\uc2dc \\u300c\\ube44\\ud06c\\ud2f0\\ub2c8\\uc640 \\ud751\\uc758 \\uc601\\uc6c5 \\uc81c\\ud06c\\ub85c\\ubb34\\u300d\", \"openDt\": \"2011-12-22\", \"salesAmt\": \"125535500\", \"salesShare\": \"1.6\", \"salesInten\": \"-40756000\", \"salesChange\": \"-24.5\", \"salesAcc\": \"1595695000\", \"audiCnt\": \"17817\", \"audiInten\": \"-6554\", \"audiChange\": \"-26.9\", \"audiAcc\": \"235070\", \"scrnCnt\": \"175\", \"showCnt\": \"291\"}]}}\n"
          ]
        }
      ]
    },
    {
      "cell_type": "code",
      "source": [
        "# json 파일 저장 및 불러오기\n",
        "import json\n",
        "# 저장\n",
        "with open('score_data_json', mode='w') as f:\n",
        "  json_save = json.dump(data, f)\n"
      ],
      "metadata": {
        "id": "stG0JY1YFB_P"
      },
      "execution_count": null,
      "outputs": []
    },
    {
      "cell_type": "code",
      "source": [
        "# 불러오기\n",
        "with open('./movie.json','r') as f:\n",
        "  movie_data = json.load(f)\n",
        "\n",
        "  "
      ],
      "metadata": {
        "id": "x9o-soS6Fihs"
      },
      "execution_count": null,
      "outputs": []
    },
    {
      "cell_type": "code",
      "source": [
        "movie_data"
      ],
      "metadata": {
        "colab": {
          "base_uri": "https://localhost:8080/"
        },
        "id": "JSp4X4zcFsdH",
        "outputId": "780ac1e6-2c65-479e-f82f-a3b94f40b618"
      },
      "execution_count": null,
      "outputs": [
        {
          "output_type": "execute_result",
          "data": {
            "text/plain": [
              "{'boxOfficeResult': {'boxofficeType': '일별 박스오피스',\n",
              "  'dailyBoxOfficeList': [{'audiAcc': '5328435',\n",
              "    'audiChange': '-14.5',\n",
              "    'audiCnt': '353274',\n",
              "    'audiInten': '-60106',\n",
              "    'movieCd': '20112207',\n",
              "    'movieNm': '미션임파서블:고스트프로토콜',\n",
              "    'openDt': '2011-12-15',\n",
              "    'rank': '1',\n",
              "    'rankInten': '0',\n",
              "    'rankOldAndNew': 'OLD',\n",
              "    'rnum': '1',\n",
              "    'salesAcc': '40541108500',\n",
              "    'salesAmt': '2776060500',\n",
              "    'salesChange': '-13',\n",
              "    'salesInten': '-415699000',\n",
              "    'salesShare': '36.3',\n",
              "    'scrnCnt': '697',\n",
              "    'showCnt': '3223'},\n",
              "   {'audiAcc': '1739543',\n",
              "    'audiChange': '-9.7',\n",
              "    'audiCnt': '153501',\n",
              "    'audiInten': '-16465',\n",
              "    'movieCd': '20110295',\n",
              "    'movieNm': '마이 웨이',\n",
              "    'openDt': '2011-12-21',\n",
              "    'rank': '2',\n",
              "    'rankInten': '1',\n",
              "    'rankOldAndNew': 'OLD',\n",
              "    'rnum': '2',\n",
              "    'salesAcc': '13002897500',\n",
              "    'salesAmt': '1189058500',\n",
              "    'salesChange': '-8.2',\n",
              "    'salesInten': '-105894500',\n",
              "    'salesShare': '15.6',\n",
              "    'scrnCnt': '588',\n",
              "    'showCnt': '2321'},\n",
              "   {'audiAcc': '1442861',\n",
              "    'audiChange': '-17',\n",
              "    'audiCnt': '153004',\n",
              "    'audiInten': '-31283',\n",
              "    'movieCd': '20112621',\n",
              "    'movieNm': '셜록홈즈 : 그림자 게임',\n",
              "    'openDt': '2011-12-21',\n",
              "    'rank': '3',\n",
              "    'rankInten': '-1',\n",
              "    'rankOldAndNew': 'OLD',\n",
              "    'rnum': '3',\n",
              "    'salesAcc': '10678327500',\n",
              "    'salesAmt': '1176022500',\n",
              "    'salesChange': '-15.2',\n",
              "    'salesInten': '-210328500',\n",
              "    'salesShare': '15.4',\n",
              "    'scrnCnt': '360',\n",
              "    'showCnt': '1832'},\n",
              "   {'audiAcc': '895416',\n",
              "    'audiChange': '-12.8',\n",
              "    'audiCnt': '83644',\n",
              "    'audiInten': '-12225',\n",
              "    'movieCd': '20113260',\n",
              "    'movieNm': '퍼펙트 게임',\n",
              "    'openDt': '2011-12-21',\n",
              "    'rank': '4',\n",
              "    'rankInten': '0',\n",
              "    'rankOldAndNew': 'OLD',\n",
              "    'rnum': '4',\n",
              "    'salesAcc': '6640940000',\n",
              "    'salesAmt': '644532000',\n",
              "    'salesChange': '-10.4',\n",
              "    'salesInten': '-75116500',\n",
              "    'salesShare': '8.4',\n",
              "    'scrnCnt': '396',\n",
              "    'showCnt': '1364'},\n",
              "   {'audiAcc': '202909',\n",
              "    'audiChange': '-22',\n",
              "    'audiCnt': '55092',\n",
              "    'audiInten': '-15568',\n",
              "    'movieCd': '20113271',\n",
              "    'movieNm': '프렌즈: 몬스터섬의비밀 ',\n",
              "    'openDt': '2011-12-29',\n",
              "    'rank': '5',\n",
              "    'rankInten': '0',\n",
              "    'rankOldAndNew': 'OLD',\n",
              "    'rnum': '5',\n",
              "    'salesAcc': '1523037000',\n",
              "    'salesAmt': '436753500',\n",
              "    'salesChange': '-16.9',\n",
              "    'salesInten': '-89051000',\n",
              "    'salesShare': '5.7',\n",
              "    'scrnCnt': '290',\n",
              "    'showCnt': '838'},\n",
              "   {'audiAcc': '171285',\n",
              "    'audiChange': '-20.4',\n",
              "    'audiCnt': '45750',\n",
              "    'audiInten': '-11699',\n",
              "    'movieCd': '19940256',\n",
              "    'movieNm': '라이온 킹',\n",
              "    'openDt': '1994-07-02',\n",
              "    'rank': '6',\n",
              "    'rankInten': '1',\n",
              "    'rankOldAndNew': 'OLD',\n",
              "    'rnum': '6',\n",
              "    'salesAcc': '1841625000',\n",
              "    'salesAmt': '507115500',\n",
              "    'salesChange': '-18.4',\n",
              "    'salesInten': '-114593500',\n",
              "    'salesShare': '6.6',\n",
              "    'scrnCnt': '244',\n",
              "    'showCnt': '895'},\n",
              "   {'audiAcc': '2823060',\n",
              "    'audiChange': '-26.1',\n",
              "    'audiCnt': '45062',\n",
              "    'audiInten': '-15926',\n",
              "    'movieCd': '20113381',\n",
              "    'movieNm': '오싹한 연애',\n",
              "    'openDt': '2011-12-01',\n",
              "    'rank': '7',\n",
              "    'rankInten': '-1',\n",
              "    'rankOldAndNew': 'OLD',\n",
              "    'rnum': '7',\n",
              "    'salesAcc': '20634684500',\n",
              "    'salesAmt': '344871000',\n",
              "    'salesChange': '-23.7',\n",
              "    'salesInten': '-107005500',\n",
              "    'salesShare': '4.5',\n",
              "    'scrnCnt': '243',\n",
              "    'showCnt': '839'},\n",
              "   {'audiAcc': '285959',\n",
              "    'audiChange': '-24.3',\n",
              "    'audiCnt': '24202',\n",
              "    'audiInten': '-7756',\n",
              "    'movieCd': '20112709',\n",
              "    'movieNm': '극장판 포켓몬스터 베스트 위시「비크티니와 백의 영웅 레시라무」',\n",
              "    'openDt': '2011-12-22',\n",
              "    'rank': '8',\n",
              "    'rankInten': '0',\n",
              "    'rankOldAndNew': 'OLD',\n",
              "    'rnum': '8',\n",
              "    'salesAcc': '1897120000',\n",
              "    'salesAmt': '167809500',\n",
              "    'salesChange': '-21.5',\n",
              "    'salesInten': '-45900500',\n",
              "    'salesShare': '2.2',\n",
              "    'scrnCnt': '186',\n",
              "    'showCnt': '348'},\n",
              "   {'audiAcc': '516289',\n",
              "    'audiChange': '-24.7',\n",
              "    'audiCnt': '19729',\n",
              "    'audiInten': '-6461',\n",
              "    'movieCd': '20113311',\n",
              "    'movieNm': '앨빈과 슈퍼밴드3',\n",
              "    'openDt': '2011-12-15',\n",
              "    'rank': '9',\n",
              "    'rankInten': '0',\n",
              "    'rankOldAndNew': 'OLD',\n",
              "    'rnum': '9',\n",
              "    'salesAcc': '3416675000',\n",
              "    'salesAmt': '137030000',\n",
              "    'salesChange': '-20.5',\n",
              "    'salesInten': '-35408000',\n",
              "    'salesShare': '1.8',\n",
              "    'scrnCnt': '169',\n",
              "    'showCnt': '359'},\n",
              "   {'audiAcc': '235070',\n",
              "    'audiChange': '-26.9',\n",
              "    'audiCnt': '17817',\n",
              "    'audiInten': '-6554',\n",
              "    'movieCd': '20112708',\n",
              "    'movieNm': '극장판 포켓몬스터 베스트 위시 「비크티니와 흑의 영웅 제크로무」',\n",
              "    'openDt': '2011-12-22',\n",
              "    'rank': '10',\n",
              "    'rankInten': '0',\n",
              "    'rankOldAndNew': 'OLD',\n",
              "    'rnum': '10',\n",
              "    'salesAcc': '1595695000',\n",
              "    'salesAmt': '125535500',\n",
              "    'salesChange': '-24.5',\n",
              "    'salesInten': '-40756000',\n",
              "    'salesShare': '1.6',\n",
              "    'scrnCnt': '175',\n",
              "    'showCnt': '291'}],\n",
              "  'showRange': '20120101~20120101'}}"
            ]
          },
          "metadata": {},
          "execution_count": 146
        }
      ]
    },
    {
      "cell_type": "code",
      "source": [
        "# movieNm(영화제목)\n",
        "# openDt(개봉일)\n",
        "# rank(순위)\n",
        "\n",
        "# for i in movie_data:\n",
        "#   print(i)\n",
        "\n",
        "movieNm = []\n",
        "openDt = []\n",
        "rank = []\n",
        "\n",
        "for i in movie_data['boxOfficeResult']['dailyBoxOfficeList']:\n",
        "  movieNm.append(i['movieNm'])\n",
        "  openDt.append(i['openDt'])\n",
        "  rank.append(i['rank'])\n",
        "\n",
        "import pandas as pd\n",
        "df = pd.DataFrame(zip(movieNm, openDt, rank))\n",
        "df\n"
      ],
      "metadata": {
        "colab": {
          "base_uri": "https://localhost:8080/",
          "height": 363
        },
        "id": "nquTvPz0F0Ak",
        "outputId": "35e88fa1-0bbc-4186-a0da-11814fb02023"
      },
      "execution_count": null,
      "outputs": [
        {
          "output_type": "execute_result",
          "data": {
            "text/plain": [
              "                                     0           1   2\n",
              "0                       미션임파서블:고스트프로토콜  2011-12-15   1\n",
              "1                                마이 웨이  2011-12-21   2\n",
              "2                        셜록홈즈 : 그림자 게임  2011-12-21   3\n",
              "3                               퍼펙트 게임  2011-12-21   4\n",
              "4                        프렌즈: 몬스터섬의비밀   2011-12-29   5\n",
              "5                                라이온 킹  1994-07-02   6\n",
              "6                               오싹한 연애  2011-12-01   7\n",
              "7   극장판 포켓몬스터 베스트 위시「비크티니와 백의 영웅 레시라무」  2011-12-22   8\n",
              "8                            앨빈과 슈퍼밴드3  2011-12-15   9\n",
              "9  극장판 포켓몬스터 베스트 위시 「비크티니와 흑의 영웅 제크로무」  2011-12-22  10"
            ],
            "text/html": [
              "\n",
              "  <div id=\"df-197e8cff-4287-422d-b91d-cfdd6d581eec\">\n",
              "    <div class=\"colab-df-container\">\n",
              "      <div>\n",
              "<style scoped>\n",
              "    .dataframe tbody tr th:only-of-type {\n",
              "        vertical-align: middle;\n",
              "    }\n",
              "\n",
              "    .dataframe tbody tr th {\n",
              "        vertical-align: top;\n",
              "    }\n",
              "\n",
              "    .dataframe thead th {\n",
              "        text-align: right;\n",
              "    }\n",
              "</style>\n",
              "<table border=\"1\" class=\"dataframe\">\n",
              "  <thead>\n",
              "    <tr style=\"text-align: right;\">\n",
              "      <th></th>\n",
              "      <th>0</th>\n",
              "      <th>1</th>\n",
              "      <th>2</th>\n",
              "    </tr>\n",
              "  </thead>\n",
              "  <tbody>\n",
              "    <tr>\n",
              "      <th>0</th>\n",
              "      <td>미션임파서블:고스트프로토콜</td>\n",
              "      <td>2011-12-15</td>\n",
              "      <td>1</td>\n",
              "    </tr>\n",
              "    <tr>\n",
              "      <th>1</th>\n",
              "      <td>마이 웨이</td>\n",
              "      <td>2011-12-21</td>\n",
              "      <td>2</td>\n",
              "    </tr>\n",
              "    <tr>\n",
              "      <th>2</th>\n",
              "      <td>셜록홈즈 : 그림자 게임</td>\n",
              "      <td>2011-12-21</td>\n",
              "      <td>3</td>\n",
              "    </tr>\n",
              "    <tr>\n",
              "      <th>3</th>\n",
              "      <td>퍼펙트 게임</td>\n",
              "      <td>2011-12-21</td>\n",
              "      <td>4</td>\n",
              "    </tr>\n",
              "    <tr>\n",
              "      <th>4</th>\n",
              "      <td>프렌즈: 몬스터섬의비밀</td>\n",
              "      <td>2011-12-29</td>\n",
              "      <td>5</td>\n",
              "    </tr>\n",
              "    <tr>\n",
              "      <th>5</th>\n",
              "      <td>라이온 킹</td>\n",
              "      <td>1994-07-02</td>\n",
              "      <td>6</td>\n",
              "    </tr>\n",
              "    <tr>\n",
              "      <th>6</th>\n",
              "      <td>오싹한 연애</td>\n",
              "      <td>2011-12-01</td>\n",
              "      <td>7</td>\n",
              "    </tr>\n",
              "    <tr>\n",
              "      <th>7</th>\n",
              "      <td>극장판 포켓몬스터 베스트 위시「비크티니와 백의 영웅 레시라무」</td>\n",
              "      <td>2011-12-22</td>\n",
              "      <td>8</td>\n",
              "    </tr>\n",
              "    <tr>\n",
              "      <th>8</th>\n",
              "      <td>앨빈과 슈퍼밴드3</td>\n",
              "      <td>2011-12-15</td>\n",
              "      <td>9</td>\n",
              "    </tr>\n",
              "    <tr>\n",
              "      <th>9</th>\n",
              "      <td>극장판 포켓몬스터 베스트 위시 「비크티니와 흑의 영웅 제크로무」</td>\n",
              "      <td>2011-12-22</td>\n",
              "      <td>10</td>\n",
              "    </tr>\n",
              "  </tbody>\n",
              "</table>\n",
              "</div>\n",
              "      <button class=\"colab-df-convert\" onclick=\"convertToInteractive('df-197e8cff-4287-422d-b91d-cfdd6d581eec')\"\n",
              "              title=\"Convert this dataframe to an interactive table.\"\n",
              "              style=\"display:none;\">\n",
              "        \n",
              "  <svg xmlns=\"http://www.w3.org/2000/svg\" height=\"24px\"viewBox=\"0 0 24 24\"\n",
              "       width=\"24px\">\n",
              "    <path d=\"M0 0h24v24H0V0z\" fill=\"none\"/>\n",
              "    <path d=\"M18.56 5.44l.94 2.06.94-2.06 2.06-.94-2.06-.94-.94-2.06-.94 2.06-2.06.94zm-11 1L8.5 8.5l.94-2.06 2.06-.94-2.06-.94L8.5 2.5l-.94 2.06-2.06.94zm10 10l.94 2.06.94-2.06 2.06-.94-2.06-.94-.94-2.06-.94 2.06-2.06.94z\"/><path d=\"M17.41 7.96l-1.37-1.37c-.4-.4-.92-.59-1.43-.59-.52 0-1.04.2-1.43.59L10.3 9.45l-7.72 7.72c-.78.78-.78 2.05 0 2.83L4 21.41c.39.39.9.59 1.41.59.51 0 1.02-.2 1.41-.59l7.78-7.78 2.81-2.81c.8-.78.8-2.07 0-2.86zM5.41 20L4 18.59l7.72-7.72 1.47 1.35L5.41 20z\"/>\n",
              "  </svg>\n",
              "      </button>\n",
              "      \n",
              "  <style>\n",
              "    .colab-df-container {\n",
              "      display:flex;\n",
              "      flex-wrap:wrap;\n",
              "      gap: 12px;\n",
              "    }\n",
              "\n",
              "    .colab-df-convert {\n",
              "      background-color: #E8F0FE;\n",
              "      border: none;\n",
              "      border-radius: 50%;\n",
              "      cursor: pointer;\n",
              "      display: none;\n",
              "      fill: #1967D2;\n",
              "      height: 32px;\n",
              "      padding: 0 0 0 0;\n",
              "      width: 32px;\n",
              "    }\n",
              "\n",
              "    .colab-df-convert:hover {\n",
              "      background-color: #E2EBFA;\n",
              "      box-shadow: 0px 1px 2px rgba(60, 64, 67, 0.3), 0px 1px 3px 1px rgba(60, 64, 67, 0.15);\n",
              "      fill: #174EA6;\n",
              "    }\n",
              "\n",
              "    [theme=dark] .colab-df-convert {\n",
              "      background-color: #3B4455;\n",
              "      fill: #D2E3FC;\n",
              "    }\n",
              "\n",
              "    [theme=dark] .colab-df-convert:hover {\n",
              "      background-color: #434B5C;\n",
              "      box-shadow: 0px 1px 3px 1px rgba(0, 0, 0, 0.15);\n",
              "      filter: drop-shadow(0px 1px 2px rgba(0, 0, 0, 0.3));\n",
              "      fill: #FFFFFF;\n",
              "    }\n",
              "  </style>\n",
              "\n",
              "      <script>\n",
              "        const buttonEl =\n",
              "          document.querySelector('#df-197e8cff-4287-422d-b91d-cfdd6d581eec button.colab-df-convert');\n",
              "        buttonEl.style.display =\n",
              "          google.colab.kernel.accessAllowed ? 'block' : 'none';\n",
              "\n",
              "        async function convertToInteractive(key) {\n",
              "          const element = document.querySelector('#df-197e8cff-4287-422d-b91d-cfdd6d581eec');\n",
              "          const dataTable =\n",
              "            await google.colab.kernel.invokeFunction('convertToInteractive',\n",
              "                                                     [key], {});\n",
              "          if (!dataTable) return;\n",
              "\n",
              "          const docLinkHtml = 'Like what you see? Visit the ' +\n",
              "            '<a target=\"_blank\" href=https://colab.research.google.com/notebooks/data_table.ipynb>data table notebook</a>'\n",
              "            + ' to learn more about interactive tables.';\n",
              "          element.innerHTML = '';\n",
              "          dataTable['output_type'] = 'display_data';\n",
              "          await google.colab.output.renderOutput(dataTable, element);\n",
              "          const docLink = document.createElement('div');\n",
              "          docLink.innerHTML = docLinkHtml;\n",
              "          element.appendChild(docLink);\n",
              "        }\n",
              "      </script>\n",
              "    </div>\n",
              "  </div>\n",
              "  "
            ]
          },
          "metadata": {},
          "execution_count": 156
        }
      ]
    }
  ]
}